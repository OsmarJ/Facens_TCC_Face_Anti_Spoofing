{
 "cells": [
  {
   "cell_type": "markdown",
   "id": "b71a989b",
   "metadata": {},
   "source": [
    "# TCC Especialização em Inteligencia Artificial Aplicada - Facens 2019/2\n",
    "\n",
    "### Nomes dos integrantes:\n",
    "\n",
    "* Ricardo da Silva\n",
    "* Osmar Prado Jr.\n",
    "\n",
    "### Tema\n",
    "\n",
    "* Face Anti-Spoofing Comparando arquiteturas de deep learning com tecnicas de transfer learning\n",
    "\n",
    "### Orientador:\n",
    "* Johannes\n",
    "\n",
    "### Base de dados\n",
    "Para este estudo foi utilizado 32.000 imagens com faces já pré processadas (Crop) da base de dados CelebA-Spoof Dataset.\n",
    "* 25.000 Treino \n",
    " * 12.581 live\n",
    "  * 12.419 spoof\n",
    "* 7.000 teste \n",
    " * 3.500 live\n",
    "  * 3.500 spoof\n",
    "\n",
    "### Donload CelebA_Spoof_32k.zip\n",
    "* https://drive.google.com/file/d/1ZocQKFCabv4xbzDutmsa0wlkJQV6_DqT/view?usp=sharing\n",
    "\n",
    "### Github\n",
    "Todos os exemplo são encontrados no repositorio publico Github:\n",
    "* https://github.com/RicaJedidia/Facens_TCC_Face_Anti_Spoofing\n",
    "\n",
    "\n",
    "### Referencia CelebA-Spoof Dataset \n",
    "* https://github.com/Davidzhangyuanhan/CelebA-Spoof\n",
    "* https://paperswithcode.com/dataset/celeba-spoof\n",
    "\n",
    "*O conjunto de dados CelebA-Spoof está disponível apenas para fins de pesquisa não comercial.*"
   ]
  },
  {
   "cell_type": "markdown",
   "id": "c09dd128",
   "metadata": {},
   "source": [
    "### Setup Hardware\n",
    "* CPU: Intel Core i7-7700 @ 3.60 Hz\n",
    "* Placa de video: NVIDIA GeForge GTX 1060 6GB\n",
    "* RAM: 16.0 GB\n",
    "* Disco: SSD KINGSTION SA400S37120G\n",
    "\n",
    "\n",
    "### Hardware\n",
    "* Windows 10 x64\n",
    "* Cuda 11.1\n",
    "* Tensorflow:  2.1.0\n",
    "* Keras:  2.2.4-tf\n"
   ]
  },
  {
   "cell_type": "markdown",
   "id": "b36aaa48",
   "metadata": {},
   "source": [
    "### Carregando bibliotecas"
   ]
  },
  {
   "cell_type": "code",
   "execution_count": 1,
   "id": "0167ff2b",
   "metadata": {},
   "outputs": [
    {
     "name": "stderr",
     "output_type": "stream",
     "text": [
      "Using TensorFlow backend.\n"
     ]
    }
   ],
   "source": [
    "import numpy as np\n",
    "import pandas as pd\n",
    "\n",
    "import cv2\n",
    "import os\n",
    "\n",
    "import tensorflow as tf\n",
    "from tensorflow.keras.preprocessing.image import ImageDataGenerator\n",
    "from tensorflow.keras import models\n",
    "\n",
    "from numpy import expand_dims\n",
    "from keras.preprocessing.image import load_img\n",
    "from keras.preprocessing.image import img_to_array\n",
    "\n",
    "from tensorflow.keras.applications import MobileNetV2\n",
    "from tensorflow.keras.applications import DenseNet121\n",
    "from tensorflow.keras.applications import VGG16\n",
    "from tensorflow.keras.applications import VGG19\n",
    "from tensorflow.keras.applications import Xception\n",
    "\n",
    "from tensorflow.keras.models import Sequential\n",
    "from tensorflow.keras.layers import GlobalAveragePooling2D\n",
    "from tensorflow.keras.layers import Dense\n",
    "from tensorflow.keras.layers import BatchNormalization\n",
    "from tensorflow.keras.layers import Dropout\n",
    "\n",
    "from sklearn.metrics import accuracy_score\n",
    "from sklearn.metrics import f1_score\n",
    "from sklearn.metrics import precision_score\n",
    "from sklearn.metrics import roc_auc_score\n",
    "\n",
    "# gráfico\n",
    "import seaborn as sns\n",
    "import matplotlib.pyplot as plt\n",
    "%matplotlib inline"
   ]
  },
  {
   "cell_type": "markdown",
   "id": "29559507",
   "metadata": {},
   "source": [
    "### Iniciando variaveis"
   ]
  },
  {
   "cell_type": "code",
   "execution_count": 2,
   "id": "bc2ac38c",
   "metadata": {},
   "outputs": [],
   "source": [
    "LOCAL_ROOT  = 'D:/CelebA_Spoof_32k'\n",
    "PATH_TEST = LOCAL_ROOT +  '/test'\n",
    "\n",
    "BATCH_SIZE = 64\n",
    "IMG_SHAPE = (224, 224, 3)\n",
    "RANDOM_STATE = 42"
   ]
  },
  {
   "cell_type": "code",
   "execution_count": 3,
   "id": "72af91ca",
   "metadata": {},
   "outputs": [],
   "source": [
    "path_MobileNetV2 = '../teste_01_MobileNetV2/CelebA_Spoof_32k_MobileNetV2_50.h5'\n",
    "path_DenseNet121 = '../teste_02_Densenet_121/CelebA_Spoof_32k_DenseNet121_50.h5'\n",
    "path_Vgg16 = '../teste_03_Vgg16/CelebA_Spoof_32k_Vgg16_50.h5'\n",
    "path_Vgg19 = '../teste_04_Vgg19/CelebA_Spoof_32k_Vgg19_50.h5'\n",
    "path_Xception = '../teste_05_Xception/CelebA_Spoof_32k_Xception.h5'"
   ]
  },
  {
   "cell_type": "markdown",
   "id": "945a7866",
   "metadata": {},
   "source": [
    "### Separando dados para teste"
   ]
  },
  {
   "cell_type": "code",
   "execution_count": 4,
   "id": "1c87442c",
   "metadata": {},
   "outputs": [],
   "source": [
    "test_datagen = ImageDataGenerator(rescale = 1.0/255)"
   ]
  },
  {
   "cell_type": "code",
   "execution_count": 5,
   "id": "f1bf44e6",
   "metadata": {},
   "outputs": [
    {
     "name": "stdout",
     "output_type": "stream",
     "text": [
      "Found 7000 images belonging to 2 classes.\n"
     ]
    }
   ],
   "source": [
    "test_generator = test_datagen.flow_from_directory(PATH_TEST,\n",
    "                                                   target_size=IMG_SHAPE[:-1],\n",
    "                                                   shuffle=False,\n",
    "                                                   class_mode='binary',\n",
    "                                                   batch_size=BATCH_SIZE)"
   ]
  },
  {
   "cell_type": "markdown",
   "id": "38f1c625",
   "metadata": {},
   "source": [
    "## Carregando modelos\n",
    "Para manter a compatibilidade de versão será necessário mantar a arquitetura do modelo e carregar os pesos."
   ]
  },
  {
   "cell_type": "markdown",
   "id": "6ca8c652",
   "metadata": {},
   "source": [
    "### Model MobileNetV2"
   ]
  },
  {
   "cell_type": "code",
   "execution_count": 6,
   "id": "d27cac4f",
   "metadata": {},
   "outputs": [],
   "source": [
    "mobilenet = MobileNetV2(input_shape=IMG_SHAPE, include_top=False, weights='imagenet')"
   ]
  },
  {
   "cell_type": "code",
   "execution_count": 7,
   "id": "471c836b",
   "metadata": {},
   "outputs": [],
   "source": [
    "model_MobileNetV2 = tf.keras.models.Sequential([mobilenet,\n",
    "                                    GlobalAveragePooling2D(),\n",
    "                                    Dense(512, activation='relu'),\n",
    "                                    BatchNormalization(),\n",
    "                                    Dropout(0.3),\n",
    "                                    Dense(128, activation = \"relu\"),\n",
    "                                    Dropout(0.1),\n",
    "                                    Dense(2, activation='softmax')\n",
    "                                   ])"
   ]
  },
  {
   "cell_type": "code",
   "execution_count": 8,
   "id": "2127ad8f",
   "metadata": {},
   "outputs": [
    {
     "name": "stdout",
     "output_type": "stream",
     "text": [
      "Model: \"sequential\"\n",
      "_________________________________________________________________\n",
      "Layer (type)                 Output Shape              Param #   \n",
      "=================================================================\n",
      "mobilenetv2_1.00_224 (Model) (None, 7, 7, 1280)        2257984   \n",
      "_________________________________________________________________\n",
      "global_average_pooling2d (Gl (None, 1280)              0         \n",
      "_________________________________________________________________\n",
      "dense (Dense)                (None, 512)               655872    \n",
      "_________________________________________________________________\n",
      "batch_normalization (BatchNo (None, 512)               2048      \n",
      "_________________________________________________________________\n",
      "dropout (Dropout)            (None, 512)               0         \n",
      "_________________________________________________________________\n",
      "dense_1 (Dense)              (None, 128)               65664     \n",
      "_________________________________________________________________\n",
      "dropout_1 (Dropout)          (None, 128)               0         \n",
      "_________________________________________________________________\n",
      "dense_2 (Dense)              (None, 2)                 258       \n",
      "=================================================================\n",
      "Total params: 2,981,826\n",
      "Trainable params: 2,946,690\n",
      "Non-trainable params: 35,136\n",
      "_________________________________________________________________\n"
     ]
    }
   ],
   "source": [
    "model_MobileNetV2.load_weights(path_MobileNetV2)\n",
    "model_MobileNetV2.summary()"
   ]
  },
  {
   "cell_type": "code",
   "execution_count": 9,
   "id": "559c20b6",
   "metadata": {},
   "outputs": [
    {
     "data": {
      "text/plain": [
       "('../teste_01_MobileNetV2/CelebA_Spoof_32k_MobileNetV2_50.h5',\n",
       " '../teste_02_Densenet_121/CelebA_Spoof_32k_DenseNet121_50.h5')"
      ]
     },
     "execution_count": 9,
     "metadata": {},
     "output_type": "execute_result"
    }
   ],
   "source": [
    "path_MobileNetV2, path_DenseNet121\n"
   ]
  },
  {
   "cell_type": "markdown",
   "id": "25647a15",
   "metadata": {},
   "source": [
    "### DenseNet121"
   ]
  },
  {
   "cell_type": "code",
   "execution_count": 10,
   "id": "371766de",
   "metadata": {},
   "outputs": [],
   "source": [
    "densenet = DenseNet121(input_shape=IMG_SHAPE, include_top=False, weights='imagenet')"
   ]
  },
  {
   "cell_type": "code",
   "execution_count": 11,
   "id": "b9e977a2",
   "metadata": {},
   "outputs": [],
   "source": [
    "model_DenseNet121 = tf.keras.models.Sequential([densenet,\n",
    "                                    GlobalAveragePooling2D(),\n",
    "                                    Dense(512, activation='relu'),\n",
    "                                    BatchNormalization(),\n",
    "                                    Dropout(0.3),\n",
    "                                    Dense(128, activation = \"relu\"),\n",
    "                                    Dropout(0.1),\n",
    "                                    Dense(2, activation='softmax')\n",
    "                                   ])"
   ]
  },
  {
   "cell_type": "code",
   "execution_count": 12,
   "id": "fb856b48",
   "metadata": {},
   "outputs": [
    {
     "name": "stdout",
     "output_type": "stream",
     "text": [
      "Model: \"sequential_1\"\n",
      "_________________________________________________________________\n",
      "Layer (type)                 Output Shape              Param #   \n",
      "=================================================================\n",
      "densenet121 (Model)          (None, 7, 7, 1024)        7037504   \n",
      "_________________________________________________________________\n",
      "global_average_pooling2d_1 ( (None, 1024)              0         \n",
      "_________________________________________________________________\n",
      "dense_3 (Dense)              (None, 512)               524800    \n",
      "_________________________________________________________________\n",
      "batch_normalization_1 (Batch (None, 512)               2048      \n",
      "_________________________________________________________________\n",
      "dropout_2 (Dropout)          (None, 512)               0         \n",
      "_________________________________________________________________\n",
      "dense_4 (Dense)              (None, 128)               65664     \n",
      "_________________________________________________________________\n",
      "dropout_3 (Dropout)          (None, 128)               0         \n",
      "_________________________________________________________________\n",
      "dense_5 (Dense)              (None, 2)                 258       \n",
      "=================================================================\n",
      "Total params: 7,630,274\n",
      "Trainable params: 7,545,602\n",
      "Non-trainable params: 84,672\n",
      "_________________________________________________________________\n"
     ]
    }
   ],
   "source": [
    "model_DenseNet121.summary()"
   ]
  },
  {
   "cell_type": "code",
   "execution_count": 13,
   "id": "1e21f9b6",
   "metadata": {},
   "outputs": [],
   "source": [
    "model_DenseNet121.load_weights(path_DenseNet121)"
   ]
  },
  {
   "cell_type": "markdown",
   "id": "9dddb06a",
   "metadata": {},
   "source": [
    "### VGG16"
   ]
  },
  {
   "cell_type": "code",
   "execution_count": 14,
   "id": "dd5c6e10",
   "metadata": {},
   "outputs": [],
   "source": [
    "vgg16 = VGG16(input_shape=IMG_SHAPE, include_top=False, weights='imagenet')"
   ]
  },
  {
   "cell_type": "code",
   "execution_count": 15,
   "id": "9d875069",
   "metadata": {},
   "outputs": [],
   "source": [
    "model_vgg16 = tf.keras.models.Sequential([vgg16,\n",
    "                                    GlobalAveragePooling2D(),\n",
    "                                    Dense(512, activation='relu'),\n",
    "                                    BatchNormalization(),\n",
    "                                    Dropout(0.3),\n",
    "                                    Dense(128, activation = \"relu\"),\n",
    "                                    Dropout(0.1),\n",
    "                                    Dense(2, activation='softmax')\n",
    "                                   ])"
   ]
  },
  {
   "cell_type": "code",
   "execution_count": 16,
   "id": "fda94474",
   "metadata": {},
   "outputs": [
    {
     "name": "stdout",
     "output_type": "stream",
     "text": [
      "Model: \"sequential_2\"\n",
      "_________________________________________________________________\n",
      "Layer (type)                 Output Shape              Param #   \n",
      "=================================================================\n",
      "vgg16 (Model)                (None, 7, 7, 512)         14714688  \n",
      "_________________________________________________________________\n",
      "global_average_pooling2d_2 ( (None, 512)               0         \n",
      "_________________________________________________________________\n",
      "dense_6 (Dense)              (None, 512)               262656    \n",
      "_________________________________________________________________\n",
      "batch_normalization_2 (Batch (None, 512)               2048      \n",
      "_________________________________________________________________\n",
      "dropout_4 (Dropout)          (None, 512)               0         \n",
      "_________________________________________________________________\n",
      "dense_7 (Dense)              (None, 128)               65664     \n",
      "_________________________________________________________________\n",
      "dropout_5 (Dropout)          (None, 128)               0         \n",
      "_________________________________________________________________\n",
      "dense_8 (Dense)              (None, 2)                 258       \n",
      "=================================================================\n",
      "Total params: 15,045,314\n",
      "Trainable params: 15,044,290\n",
      "Non-trainable params: 1,024\n",
      "_________________________________________________________________\n"
     ]
    }
   ],
   "source": [
    "model_vgg16.summary()"
   ]
  },
  {
   "cell_type": "code",
   "execution_count": 17,
   "id": "1b0bd936",
   "metadata": {},
   "outputs": [],
   "source": [
    "model_vgg16.load_weights(path_Vgg16)"
   ]
  },
  {
   "cell_type": "markdown",
   "id": "7ee6f990",
   "metadata": {},
   "source": [
    "### VGG19"
   ]
  },
  {
   "cell_type": "code",
   "execution_count": 18,
   "id": "e817b165",
   "metadata": {},
   "outputs": [],
   "source": [
    "vgg19 = VGG19(input_shape=IMG_SHAPE, include_top=False, weights='imagenet')"
   ]
  },
  {
   "cell_type": "code",
   "execution_count": 19,
   "id": "e9516b4d",
   "metadata": {},
   "outputs": [],
   "source": [
    "model_vgg19 = tf.keras.models.Sequential([vgg19,\n",
    "                                    GlobalAveragePooling2D(),\n",
    "                                    Dense(512, activation='relu'),\n",
    "                                    BatchNormalization(),\n",
    "                                    Dropout(0.3),\n",
    "                                    Dense(128, activation = \"relu\"),\n",
    "                                    Dropout(0.1),\n",
    "                                    Dense(2, activation='softmax')\n",
    "                                   ])"
   ]
  },
  {
   "cell_type": "code",
   "execution_count": 20,
   "id": "04423224",
   "metadata": {},
   "outputs": [
    {
     "name": "stdout",
     "output_type": "stream",
     "text": [
      "Model: \"sequential_3\"\n",
      "_________________________________________________________________\n",
      "Layer (type)                 Output Shape              Param #   \n",
      "=================================================================\n",
      "vgg19 (Model)                (None, 7, 7, 512)         20024384  \n",
      "_________________________________________________________________\n",
      "global_average_pooling2d_3 ( (None, 512)               0         \n",
      "_________________________________________________________________\n",
      "dense_9 (Dense)              (None, 512)               262656    \n",
      "_________________________________________________________________\n",
      "batch_normalization_3 (Batch (None, 512)               2048      \n",
      "_________________________________________________________________\n",
      "dropout_6 (Dropout)          (None, 512)               0         \n",
      "_________________________________________________________________\n",
      "dense_10 (Dense)             (None, 128)               65664     \n",
      "_________________________________________________________________\n",
      "dropout_7 (Dropout)          (None, 128)               0         \n",
      "_________________________________________________________________\n",
      "dense_11 (Dense)             (None, 2)                 258       \n",
      "=================================================================\n",
      "Total params: 20,355,010\n",
      "Trainable params: 20,353,986\n",
      "Non-trainable params: 1,024\n",
      "_________________________________________________________________\n"
     ]
    }
   ],
   "source": [
    "model_vgg19.summary()"
   ]
  },
  {
   "cell_type": "code",
   "execution_count": 21,
   "id": "0958629d",
   "metadata": {},
   "outputs": [],
   "source": [
    "model_vgg19.load_weights(path_Vgg19)"
   ]
  },
  {
   "cell_type": "markdown",
   "id": "e19223ff",
   "metadata": {},
   "source": [
    "### Xception"
   ]
  },
  {
   "cell_type": "code",
   "execution_count": 22,
   "id": "692fd576",
   "metadata": {},
   "outputs": [],
   "source": [
    "xception = Xception(input_shape=IMG_SHAPE, include_top=False, weights='imagenet')"
   ]
  },
  {
   "cell_type": "code",
   "execution_count": 23,
   "id": "f52d4bd4",
   "metadata": {},
   "outputs": [],
   "source": [
    "model_Xception = tf.keras.models.Sequential([xception,\n",
    "                                    GlobalAveragePooling2D(),\n",
    "                                    Dense(512, activation='relu'),\n",
    "                                    BatchNormalization(),\n",
    "                                    Dropout(0.3),\n",
    "                                    Dense(128, activation = \"relu\"),\n",
    "                                    Dropout(0.1),\n",
    "                                    Dense(2, activation='softmax')\n",
    "                                   ])"
   ]
  },
  {
   "cell_type": "code",
   "execution_count": 24,
   "id": "6507f1ef",
   "metadata": {},
   "outputs": [
    {
     "name": "stdout",
     "output_type": "stream",
     "text": [
      "Model: \"sequential_4\"\n",
      "_________________________________________________________________\n",
      "Layer (type)                 Output Shape              Param #   \n",
      "=================================================================\n",
      "xception (Model)             (None, 7, 7, 2048)        20861480  \n",
      "_________________________________________________________________\n",
      "global_average_pooling2d_4 ( (None, 2048)              0         \n",
      "_________________________________________________________________\n",
      "dense_12 (Dense)             (None, 512)               1049088   \n",
      "_________________________________________________________________\n",
      "batch_normalization_8 (Batch (None, 512)               2048      \n",
      "_________________________________________________________________\n",
      "dropout_8 (Dropout)          (None, 512)               0         \n",
      "_________________________________________________________________\n",
      "dense_13 (Dense)             (None, 128)               65664     \n",
      "_________________________________________________________________\n",
      "dropout_9 (Dropout)          (None, 128)               0         \n",
      "_________________________________________________________________\n",
      "dense_14 (Dense)             (None, 2)                 258       \n",
      "=================================================================\n",
      "Total params: 21,978,538\n",
      "Trainable params: 21,922,986\n",
      "Non-trainable params: 55,552\n",
      "_________________________________________________________________\n"
     ]
    }
   ],
   "source": [
    "model_Xception.summary()"
   ]
  },
  {
   "cell_type": "code",
   "execution_count": 25,
   "id": "840b465a",
   "metadata": {},
   "outputs": [],
   "source": [
    "model_Xception.load_weights(path_Xception)"
   ]
  },
  {
   "cell_type": "code",
   "execution_count": null,
   "id": "284bf2db",
   "metadata": {},
   "outputs": [],
   "source": []
  },
  {
   "cell_type": "code",
   "execution_count": null,
   "id": "06a19e17",
   "metadata": {},
   "outputs": [],
   "source": []
  },
  {
   "cell_type": "code",
   "execution_count": 26,
   "id": "6ce9ed55",
   "metadata": {},
   "outputs": [],
   "source": [
    "models = [model_MobileNetV2, model_DenseNet121, model_vgg16,  model_vgg19, model_Xception]\n",
    "names = ['MobileNetV2', 'DenseNet121', 'Vgg16', 'Vgg19', 'Xception']"
   ]
  },
  {
   "cell_type": "code",
   "execution_count": 27,
   "id": "25975849",
   "metadata": {},
   "outputs": [],
   "source": [
    "def evaluate(models, generator, names):\n",
    "    results = pd.DataFrame(columns=['accuracy', 'f1-score', 'precision'])\n",
    "    \n",
    "    for model, name in zip(models, names):\n",
    "        print('Avaliando: {}'.format(name))\n",
    "        pred = model.predict(generator, verbose=1)\n",
    "\n",
    "        y_test = generator.classes\n",
    "        y_pred = pred.argmax(axis=1)\n",
    "\n",
    "        accuracy = accuracy_score(y_test, y_pred)\n",
    "        f1 = f1_score(y_test, y_pred)\n",
    "        precision = precision_score(y_test, y_pred)\n",
    "\n",
    "        results.loc[name, :] = [accuracy, f1, precision]\n",
    "    \n",
    "    return results"
   ]
  },
  {
   "cell_type": "code",
   "execution_count": 31,
   "id": "651d2d96",
   "metadata": {
    "scrolled": true
   },
   "outputs": [
    {
     "name": "stdout",
     "output_type": "stream",
     "text": [
      "Avaliando: MobileNetV2\n",
      "110/110 [==============================] - 15s 137ms/step\n",
      "Avaliando: DenseNet121\n",
      "110/110 [==============================] - 24s 223ms/step\n",
      "Avaliando: Vgg16\n",
      "110/110 [==============================] - 41s 369ms/step\n",
      "Avaliando: Vgg19\n",
      "110/110 [==============================] - 48s 433ms/step\n",
      "Avaliando: Xception\n",
      "110/110 [==============================] - 36s 328ms/step\n"
     ]
    }
   ],
   "source": [
    "results = evaluate(models, test_generator, names)"
   ]
  },
  {
   "cell_type": "code",
   "execution_count": 32,
   "id": "7477184f",
   "metadata": {},
   "outputs": [
    {
     "data": {
      "text/html": [
       "<div>\n",
       "<style scoped>\n",
       "    .dataframe tbody tr th:only-of-type {\n",
       "        vertical-align: middle;\n",
       "    }\n",
       "\n",
       "    .dataframe tbody tr th {\n",
       "        vertical-align: top;\n",
       "    }\n",
       "\n",
       "    .dataframe thead th {\n",
       "        text-align: right;\n",
       "    }\n",
       "</style>\n",
       "<table border=\"1\" class=\"dataframe\">\n",
       "  <thead>\n",
       "    <tr style=\"text-align: right;\">\n",
       "      <th></th>\n",
       "      <th>accuracy</th>\n",
       "      <th>f1-score</th>\n",
       "      <th>precision</th>\n",
       "    </tr>\n",
       "  </thead>\n",
       "  <tbody>\n",
       "    <tr>\n",
       "      <th>MobileNetV2</th>\n",
       "      <td>0.917857</td>\n",
       "      <td>0.911087</td>\n",
       "      <td>0.992922</td>\n",
       "    </tr>\n",
       "    <tr>\n",
       "      <th>DenseNet121</th>\n",
       "      <td>0.870714</td>\n",
       "      <td>0.852774</td>\n",
       "      <td>0.990178</td>\n",
       "    </tr>\n",
       "    <tr>\n",
       "      <th>Vgg16</th>\n",
       "      <td>0.881857</td>\n",
       "      <td>0.869538</td>\n",
       "      <td>0.970764</td>\n",
       "    </tr>\n",
       "    <tr>\n",
       "      <th>Vgg19</th>\n",
       "      <td>0.906286</td>\n",
       "      <td>0.899325</td>\n",
       "      <td>0.971485</td>\n",
       "    </tr>\n",
       "    <tr>\n",
       "      <th>Xception</th>\n",
       "      <td>0.870429</td>\n",
       "      <td>0.851433</td>\n",
       "      <td>0.997697</td>\n",
       "    </tr>\n",
       "  </tbody>\n",
       "</table>\n",
       "</div>"
      ],
      "text/plain": [
       "             accuracy  f1-score precision\n",
       "MobileNetV2  0.917857  0.911087  0.992922\n",
       "DenseNet121  0.870714  0.852774  0.990178\n",
       "Vgg16        0.881857  0.869538  0.970764\n",
       "Vgg19        0.906286  0.899325  0.971485\n",
       "Xception     0.870429  0.851433  0.997697"
      ]
     },
     "execution_count": 32,
     "metadata": {},
     "output_type": "execute_result"
    }
   ],
   "source": [
    "results"
   ]
  },
  {
   "cell_type": "code",
   "execution_count": 33,
   "id": "3c362d8d",
   "metadata": {},
   "outputs": [
    {
     "data": {
      "text/plain": [
       "<matplotlib.axes._subplots.AxesSubplot at 0x28110d17108>"
      ]
     },
     "execution_count": 33,
     "metadata": {},
     "output_type": "execute_result"
    },
    {
     "data": {
      "image/png": "[encoded data removed]",
      "text/plain": [
       "<Figure size 1296x360 with 3 Axes>"
      ]
     },
     "metadata": {
      "needs_background": "light"
     },
     "output_type": "display_data"
    }
   ],
   "source": [
    "fig, ax = plt.subplots(1,3, figsize=(18,5))\n",
    "\n",
    "results.sort_values('accuracy', ascending=False).plot.bar(y='accuracy', color='r', ax=ax[0])\n",
    "results.sort_values('f1-score', ascending=False).plot.bar(y='f1-score', color='g', ax=ax[1])\n",
    "results.sort_values('accuracy', ascending=False).plot.bar(y='precision', color='b', ax=ax[2])"
   ]
  },
  {
   "cell_type": "markdown",
   "id": "9d4d7318",
   "metadata": {},
   "source": [
    "### Conclusão"
   ]
  },
  {
   "cell_type": "markdown",
   "id": "2d288ad7",
   "metadata": {},
   "source": []
  },
  {
   "cell_type": "code",
   "execution_count": null,
   "id": "600db730",
   "metadata": {},
   "outputs": [],
   "source": []
  },
  {
   "cell_type": "code",
   "execution_count": null,
   "id": "5ab497f1",
   "metadata": {},
   "outputs": [],
   "source": []
  },
  {
   "cell_type": "code",
   "execution_count": null,
   "id": "3645df4b",
   "metadata": {},
   "outputs": [],
   "source": []
  },
  {
   "cell_type": "code",
   "execution_count": null,
   "id": "4111bdce",
   "metadata": {},
   "outputs": [],
   "source": []
  }
 ],
 "metadata": {
  "kernelspec": {
   "display_name": "Python 3.7.7 64-bit ('tensorflow': conda)",
   "language": "python",
   "name": "python37764bittensorflowcondacf79a7cf804342c0922fb0a59f4f3266"
  },
  "language_info": {
   "codemirror_mode": {
    "name": "ipython",
    "version": 3
   },
   "file_extension": ".py",
   "mimetype": "text/x-python",
   "name": "python",
   "nbconvert_exporter": "python",
   "pygments_lexer": "ipython3",
   "version": "3.7.7"
  }
 },
 "nbformat": 4,
 "nbformat_minor": 5
}
