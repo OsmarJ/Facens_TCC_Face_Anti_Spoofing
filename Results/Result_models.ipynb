{
 "cells": [
  {
   "cell_type": "code",
   "execution_count": null,
   "id": "4f0bc9c8",
   "metadata": {},
   "outputs": [],
   "source": []
  },
  {
   "cell_type": "code",
   "execution_count": 26,
   "id": "f6010b55",
   "metadata": {},
   "outputs": [],
   "source": [
    "import numpy as np\n",
    "import pandas as pd\n",
    "\n",
    "import cv2\n",
    "import os\n",
    "\n",
    "import tensorflow as tf\n",
    "from tensorflow.keras.preprocessing.image import ImageDataGenerator\n",
    "from tensorflow.keras import models\n",
    "\n",
    "from numpy import expand_dims\n",
    "from keras.preprocessing.image import load_img\n",
    "from keras.preprocessing.image import img_to_array\n",
    "\n",
    "from tensorflow.keras.applications import DenseNet121\n",
    "from tensorflow.keras.applications import VGG16\n",
    "from tensorflow.keras.applications import VGG19\n",
    "\n",
    "\n",
    "from tensorflow.keras.models import Sequential\n",
    "from tensorflow.keras.layers import GlobalAveragePooling2D\n",
    "from tensorflow.keras.layers import Dense\n",
    "from tensorflow.keras.layers import BatchNormalization\n",
    "from tensorflow.keras.layers import Dropout\n",
    "from tensorflow.keras.layers import Flatten\n",
    "\n",
    "from tensorflow.keras.layers import Conv2D\n",
    "from tensorflow.keras.layers import MaxPooling2D\n",
    "from tensorflow.keras.layers import Activation\n",
    "from tensorflow.keras import backend as K\n",
    "\n",
    "\n",
    "from sklearn.metrics import accuracy_score\n",
    "from sklearn.metrics import f1_score\n",
    "from sklearn.metrics import precision_score\n",
    "from sklearn.metrics import roc_auc_score\n",
    "\n",
    "# gráfico\n",
    "import seaborn as sns\n",
    "import matplotlib.pyplot as plt\n",
    "%matplotlib inline"
   ]
  },
  {
   "cell_type": "code",
   "execution_count": 2,
   "id": "042d54a1",
   "metadata": {},
   "outputs": [],
   "source": [
    "LOCAL_ROOT  = 'D:/CelebA_Spoof_32k'\n",
    "PATH_TEST = LOCAL_ROOT +  '/test'\n",
    "\n",
    "BATCH_SIZE = 64\n",
    "IMG_SHAPE = (224, 224, 3)\n",
    "RANDOM_STATE = 42"
   ]
  },
  {
   "cell_type": "code",
   "execution_count": 13,
   "id": "cdbd090b",
   "metadata": {},
   "outputs": [],
   "source": [
    "path_MobileNetV2 = 'D:/models/CelebA_Spoof_32k_MobileNetV2_50.h5'\n",
    "path_DenseNet121 = 'D:/models/CelebA_Spoof_32k_DenseNet121_30.h5'\n",
    "path_Vgg16 = 'D:/models/CelebA_Spoof_32k_VGG16.h5'\n",
    "path_Vgg19 = 'D:/models/CelebA_Spoof_32k_VGG19.h5'\n",
    "path_cnn = 'D:/models/CelebA_Spoof_32k_cnn.h5'"
   ]
  },
  {
   "cell_type": "code",
   "execution_count": null,
   "id": "03c02a78",
   "metadata": {},
   "outputs": [],
   "source": []
  },
  {
   "cell_type": "code",
   "execution_count": 4,
   "id": "1bab094b",
   "metadata": {},
   "outputs": [],
   "source": [
    "test_datagen = ImageDataGenerator(rescale = 1.0/255)"
   ]
  },
  {
   "cell_type": "code",
   "execution_count": 5,
   "id": "f5a74469",
   "metadata": {},
   "outputs": [
    {
     "name": "stdout",
     "output_type": "stream",
     "text": [
      "Found 7000 images belonging to 2 classes.\n"
     ]
    }
   ],
   "source": [
    "test_generator = test_datagen.flow_from_directory(PATH_TEST,\n",
    "                                                   target_size=IMG_SHAPE[:-1],\n",
    "                                                   shuffle=False,\n",
    "                                                   class_mode='binary',\n",
    "                                                   batch_size=BATCH_SIZE)"
   ]
  },
  {
   "cell_type": "code",
   "execution_count": null,
   "id": "7869cfbd",
   "metadata": {},
   "outputs": [],
   "source": []
  },
  {
   "cell_type": "code",
   "execution_count": 6,
   "id": "9f423e5c",
   "metadata": {},
   "outputs": [],
   "source": [
    "model_MobileNetV2 = models.load_model(path_MobileNetV2)"
   ]
  },
  {
   "cell_type": "markdown",
   "id": "a683daa9",
   "metadata": {},
   "source": [
    "### DenseNet121"
   ]
  },
  {
   "cell_type": "code",
   "execution_count": 7,
   "id": "d6e934ef",
   "metadata": {},
   "outputs": [],
   "source": [
    "densenet = DenseNet121(input_shape=IMG_SHAPE, include_top=False, weights='imagenet')"
   ]
  },
  {
   "cell_type": "code",
   "execution_count": 8,
   "id": "94a03abd",
   "metadata": {},
   "outputs": [],
   "source": [
    "model_DenseNet121 = tf.keras.models.Sequential([densenet,\n",
    "                                    GlobalAveragePooling2D(),\n",
    "                                    Dense(512, activation='relu'),\n",
    "                                    BatchNormalization(),\n",
    "                                    Dropout(0.3),\n",
    "                                    Dense(2, activation='sigmoid')\n",
    "                                    ])"
   ]
  },
  {
   "cell_type": "code",
   "execution_count": 9,
   "id": "c3500f77",
   "metadata": {},
   "outputs": [],
   "source": [
    "model_DenseNet121.load_weights(path_DenseNet121)"
   ]
  },
  {
   "cell_type": "markdown",
   "id": "ef3cb202",
   "metadata": {},
   "source": [
    "### VGG16"
   ]
  },
  {
   "cell_type": "code",
   "execution_count": 10,
   "id": "c90cdda1",
   "metadata": {},
   "outputs": [],
   "source": [
    "vgg16 = VGG16(input_shape=IMG_SHAPE, include_top=False, weights='imagenet')"
   ]
  },
  {
   "cell_type": "code",
   "execution_count": 11,
   "id": "915d5dcc",
   "metadata": {},
   "outputs": [],
   "source": [
    "model_vgg16 = tf.keras.models.Sequential([vgg16,\n",
    "                                    GlobalAveragePooling2D(),\n",
    "                                    Dense(512, activation='relu'),\n",
    "                                    BatchNormalization(),\n",
    "                                    Dropout(0.3),\n",
    "                                    Dense(2, activation='sigmoid')\n",
    "                                    ])"
   ]
  },
  {
   "cell_type": "code",
   "execution_count": 14,
   "id": "dc68201e",
   "metadata": {},
   "outputs": [],
   "source": [
    "model_vgg16.load_weights(path_Vgg16)"
   ]
  },
  {
   "cell_type": "markdown",
   "id": "fd54758b",
   "metadata": {},
   "source": [
    "### VGG19"
   ]
  },
  {
   "cell_type": "code",
   "execution_count": 15,
   "id": "e739069b",
   "metadata": {},
   "outputs": [],
   "source": [
    "vgg19 = VGG19(input_shape=IMG_SHAPE, include_top=False, weights='imagenet')"
   ]
  },
  {
   "cell_type": "code",
   "execution_count": 18,
   "id": "00523d43",
   "metadata": {},
   "outputs": [],
   "source": [
    "model_vgg19 = tf.keras.models.Sequential(name='tcc_vgg19')\n",
    "model_vgg19.add(vgg19)\n",
    "model_vgg19.add(GlobalAveragePooling2D())\n",
    "model_vgg19.add(BatchNormalization())\n",
    "model_vgg19.add(Flatten())\n",
    "model_vgg19.add(Dense(128, activation='relu'))\n",
    "model_vgg19.add(Dropout(0.5))\n",
    "model_vgg19.add(Dense(2, activation='softmax'))"
   ]
  },
  {
   "cell_type": "code",
   "execution_count": 20,
   "id": "a6a3ae94",
   "metadata": {},
   "outputs": [],
   "source": [
    "model_vgg19.load_weights(path_Vgg19)"
   ]
  },
  {
   "cell_type": "markdown",
   "id": "7b28f8ce",
   "metadata": {},
   "source": [
    "### CNN"
   ]
  },
  {
   "cell_type": "code",
   "execution_count": 27,
   "id": "8a296911",
   "metadata": {},
   "outputs": [],
   "source": [
    "def build(width, height, depth, classes):\n",
    "    # initialize the model along with the input shape to be\n",
    "    # \"channels last\" and the channels dimension itself\n",
    "    model = Sequential(name='tcc_cnn')\n",
    "    inputShape = (height, width, depth)\n",
    "    chanDim = -1\n",
    "\n",
    "    # if we are using \"channels first\", update the input shape\n",
    "    # and channels dimension\n",
    "    if K.image_data_format() == \"channels_first\":\n",
    "        inputShape = (depth, height, width)\n",
    "        chanDim = 1\n",
    "\n",
    "    # first CONV => RELU => CONV => RELU => POOL layer set\n",
    "    model.add(Conv2D(16, (3, 3), padding=\"same\", input_shape=inputShape))\n",
    "    model.add(Activation(\"relu\"))\n",
    "    model.add(BatchNormalization(axis=chanDim))\n",
    "    model.add(Conv2D(16, (3, 3), padding=\"same\"))\n",
    "    model.add(Activation(\"relu\"))\n",
    "    model.add(BatchNormalization(axis=chanDim))\n",
    "    model.add(MaxPooling2D(pool_size=(2, 2)))\n",
    "    model.add(Dropout(0.25))\n",
    "\n",
    "    # second CONV => RELU => CONV => RELU => POOL layer set\n",
    "    model.add(Conv2D(32, (3, 3), padding=\"same\"))\n",
    "    model.add(Activation(\"relu\"))\n",
    "    model.add(BatchNormalization(axis=chanDim))\n",
    "    model.add(Conv2D(32, (3, 3), padding=\"same\"))\n",
    "    model.add(Activation(\"relu\"))\n",
    "    model.add(BatchNormalization(axis=chanDim))\n",
    "    model.add(MaxPooling2D(pool_size=(2, 2)))\n",
    "    model.add(Dropout(0.25))\n",
    "\n",
    "    # first (and only) set of FC => RELU layers\n",
    "    model.add(Flatten())\n",
    "    model.add(Dense(64))\n",
    "    model.add(Activation(\"relu\"))\n",
    "    model.add(BatchNormalization())\n",
    "    model.add(Dropout(0.5))\n",
    "\n",
    "    # softmax classifier\n",
    "    model.add(Dense(classes))\n",
    "    model.add(Activation(\"softmax\"))\n",
    "\n",
    "    # return the constructed network architecture\n",
    "    return model"
   ]
  },
  {
   "cell_type": "code",
   "execution_count": 28,
   "id": "4cd5202c",
   "metadata": {},
   "outputs": [],
   "source": [
    "model_cnn = build(width=IMG_SHAPE[0], height=IMG_SHAPE[1], depth=IMG_SHAPE[2], classes=2)"
   ]
  },
  {
   "cell_type": "code",
   "execution_count": 29,
   "id": "eae3ff1a",
   "metadata": {},
   "outputs": [],
   "source": [
    "model_cnn.load_weights(path_cnn)"
   ]
  },
  {
   "cell_type": "code",
   "execution_count": null,
   "id": "a472de5a",
   "metadata": {},
   "outputs": [],
   "source": []
  },
  {
   "cell_type": "code",
   "execution_count": null,
   "id": "4d6a0eda",
   "metadata": {},
   "outputs": [],
   "source": []
  },
  {
   "cell_type": "code",
   "execution_count": 30,
   "id": "6ac93175",
   "metadata": {},
   "outputs": [],
   "source": [
    "models = [model_MobileNetV2, model_DenseNet121, model_vgg16,  model_vgg19, model_cnn]\n",
    "names = ['MobileNetV2', 'DenseNet121', 'vgg16', 'vgg19', 'CNN']"
   ]
  },
  {
   "cell_type": "code",
   "execution_count": 31,
   "id": "212b38e3",
   "metadata": {},
   "outputs": [],
   "source": [
    "def evaluate(models, generator, names):\n",
    "    results = pd.DataFrame(columns=['accuracy', 'f1-score', 'precision'])\n",
    "    \n",
    "    for model, name in zip(models, names):\n",
    "        print('Avaliando: {}'.format(name))\n",
    "        pred = model.predict(generator, verbose=1)\n",
    "\n",
    "        y_test = generator.classes\n",
    "        y_pred = pred.argmax(axis=1)\n",
    "\n",
    "        accuracy = accuracy_score(y_test, y_pred)\n",
    "        f1 = f1_score(y_test, y_pred)\n",
    "        precision = precision_score(y_test, y_pred)\n",
    "\n",
    "        results.loc[name, :] = [accuracy, f1, precision]\n",
    "    \n",
    "    return results"
   ]
  },
  {
   "cell_type": "code",
   "execution_count": 81,
   "id": "16caf374",
   "metadata": {
    "scrolled": true
   },
   "outputs": [
    {
     "name": "stdout",
     "output_type": "stream",
     "text": [
      "Avaliando: MobileNetV2\n",
      "110/110 [==============================] - 15s 134ms/step\n",
      "Avaliando: DenseNet121\n",
      "110/110 [==============================] - 23s 211ms/step\n",
      "Avaliando: vgg16\n",
      "110/110 [==============================] - 39s 350ms/step\n",
      "Avaliando: vgg19\n",
      "110/110 [==============================] - 45s 411ms/step\n",
      "Avaliando: CNN\n",
      "110/110 [==============================] - 13s 118ms/step\n"
     ]
    }
   ],
   "source": [
    "results = evaluate(models, test_generator, names)"
   ]
  },
  {
   "cell_type": "code",
   "execution_count": 82,
   "id": "a3faa284",
   "metadata": {},
   "outputs": [
    {
     "data": {
      "text/html": [
       "<div>\n",
       "<style scoped>\n",
       "    .dataframe tbody tr th:only-of-type {\n",
       "        vertical-align: middle;\n",
       "    }\n",
       "\n",
       "    .dataframe tbody tr th {\n",
       "        vertical-align: top;\n",
       "    }\n",
       "\n",
       "    .dataframe thead th {\n",
       "        text-align: right;\n",
       "    }\n",
       "</style>\n",
       "<table border=\"1\" class=\"dataframe\">\n",
       "  <thead>\n",
       "    <tr style=\"text-align: right;\">\n",
       "      <th></th>\n",
       "      <th>accuracy</th>\n",
       "      <th>f1-score</th>\n",
       "      <th>precision</th>\n",
       "    </tr>\n",
       "  </thead>\n",
       "  <tbody>\n",
       "    <tr>\n",
       "      <th>MobileNetV2</th>\n",
       "      <td>0.921429</td>\n",
       "      <td>0.915876</td>\n",
       "      <td>0.985517</td>\n",
       "    </tr>\n",
       "    <tr>\n",
       "      <th>DenseNet121</th>\n",
       "      <td>0.906429</td>\n",
       "      <td>0.898308</td>\n",
       "      <td>0.983679</td>\n",
       "    </tr>\n",
       "    <tr>\n",
       "      <th>vgg16</th>\n",
       "      <td>0.866571</td>\n",
       "      <td>0.849694</td>\n",
       "      <td>0.972734</td>\n",
       "    </tr>\n",
       "    <tr>\n",
       "      <th>vgg19</th>\n",
       "      <td>0.882857</td>\n",
       "      <td>0.871473</td>\n",
       "      <td>0.965278</td>\n",
       "    </tr>\n",
       "    <tr>\n",
       "      <th>CNN</th>\n",
       "      <td>0.874286</td>\n",
       "      <td>0.861505</td>\n",
       "      <td>0.959005</td>\n",
       "    </tr>\n",
       "  </tbody>\n",
       "</table>\n",
       "</div>"
      ],
      "text/plain": [
       "             accuracy  f1-score precision\n",
       "MobileNetV2  0.921429  0.915876  0.985517\n",
       "DenseNet121  0.906429  0.898308  0.983679\n",
       "vgg16        0.866571  0.849694  0.972734\n",
       "vgg19        0.882857  0.871473  0.965278\n",
       "CNN          0.874286  0.861505  0.959005"
      ]
     },
     "execution_count": 82,
     "metadata": {},
     "output_type": "execute_result"
    }
   ],
   "source": [
    "results"
   ]
  },
  {
   "cell_type": "code",
   "execution_count": 89,
   "id": "460110a0",
   "metadata": {},
   "outputs": [
    {
     "data": {
      "text/plain": [
       "<matplotlib.axes._subplots.AxesSubplot at 0x21235be50c8>"
      ]
     },
     "execution_count": 89,
     "metadata": {},
     "output_type": "execute_result"
    },
    {
     "data": {
      "image/png": "[encoded data removed]",
      "text/plain": [
       "<Figure size 1296x360 with 3 Axes>"
      ]
     },
     "metadata": {
      "needs_background": "light"
     },
     "output_type": "display_data"
    }
   ],
   "source": [
    "fig, ax = plt.subplots(1,3, figsize=(18,5))\n",
    "\n",
    "results.sort_values('accuracy', ascending=False).plot.bar(y='accuracy', color='r', ax=ax[0])\n",
    "results.sort_values('f1-score', ascending=False).plot.bar(y='f1-score', color='g', ax=ax[1])\n",
    "results.sort_values('accuracy', ascending=False).plot.bar(y='precision', color='b', ax=ax[2])"
   ]
  },
  {
   "cell_type": "markdown",
   "id": "d63bd485",
   "metadata": {},
   "source": [
    "### Conclusão"
   ]
  },
  {
   "cell_type": "markdown",
   "id": "4666759e",
   "metadata": {},
   "source": [
    "O melhor modelo foi o **MobileNetV2** com:\n",
    "    * Accuracy: 92.14%\n",
    "    * F1 score: 91.59%\n",
    "    * precision score: 98.55%\n"
   ]
  },
  {
   "cell_type": "code",
   "execution_count": null,
   "id": "7eb06115",
   "metadata": {},
   "outputs": [],
   "source": []
  },
  {
   "cell_type": "code",
   "execution_count": null,
   "id": "1fd4b9f3",
   "metadata": {},
   "outputs": [],
   "source": []
  },
  {
   "cell_type": "code",
   "execution_count": null,
   "id": "58491b89",
   "metadata": {},
   "outputs": [],
   "source": []
  },
  {
   "cell_type": "code",
   "execution_count": null,
   "id": "cb5f7786",
   "metadata": {},
   "outputs": [],
   "source": []
  }
 ],
 "metadata": {
  "kernelspec": {
   "display_name": "Python 3.7.7 64-bit ('tensorflow': conda)",
   "language": "python",
   "name": "python37764bittensorflowcondacf79a7cf804342c0922fb0a59f4f3266"
  },
  "language_info": {
   "codemirror_mode": {
    "name": "ipython",
    "version": 3
   },
   "file_extension": ".py",
   "mimetype": "text/x-python",
   "name": "python",
   "nbconvert_exporter": "python",
   "pygments_lexer": "ipython3",
   "version": "3.7.7"
  }
 },
 "nbformat": 4,
 "nbformat_minor": 5
}
